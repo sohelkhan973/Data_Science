{
  "nbformat": 4,
  "nbformat_minor": 0,
  "metadata": {
    "colab": {
      "name": "Basic test quiz game.ipynb",
      "provenance": [],
      "collapsed_sections": [],
      "authorship_tag": "ABX9TyOqUTTU2J/6B4xExX2b0Ch2",
      "include_colab_link": true
    },
    "kernelspec": {
      "name": "python3",
      "display_name": "Python 3"
    }
  },
  "cells": [
    {
      "cell_type": "markdown",
      "metadata": {
        "id": "view-in-github",
        "colab_type": "text"
      },
      "source": [
        "<a href=\"https://colab.research.google.com/github/sohelkhan973/test-demo/blob/master/Basic_test_quiz_game.ipynb\" target=\"_parent\"><img src=\"https://colab.research.google.com/assets/colab-badge.svg\" alt=\"Open In Colab\"/></a>"
      ]
    },
    {
      "cell_type": "code",
      "metadata": {
        "id": "J229EGTpqLXk",
        "colab_type": "code",
        "colab": {
          "base_uri": "https://localhost:8080/",
          "height": 238
        },
        "outputId": "c4bc0300-2b05-4cb1-96e4-b9aaf6b68fd3"
      },
      "source": [
        "print(\"Hello, Welome to quiz\")\n",
        "ans = input('Are you ready to play (yes/no):  ')\n",
        "score = 0\n",
        "total_question = 4\n",
        "\n",
        "if ans.lower() == 'yes':\n",
        "  ans = input ('1. What is the best programming language?')\n",
        "  if ans.lower() == 'python':\n",
        "    score += 1\n",
        "    print('correct')\n",
        "  else:\n",
        "    print('incorrect')\n",
        "  \n",
        "\n",
        "\n",
        "  ans = input ('2. What is 2 + 8 + 9 - 1 ?')\n",
        "  if ans == '18':\n",
        "    score += 1\n",
        "    print('correct')\n",
        "  else:\n",
        "    print('incorrect')\n",
        "\n",
        "\n",
        "\n",
        "  ans = input ('3. Who won the last football world cup ?')\n",
        "  if ans.lower() == 'france':\n",
        "    score += 1\n",
        "    print('correct')\n",
        "  else:\n",
        "    print('incorrect')\n",
        "\n",
        "\n",
        "  ans = input ('4. Who has most of the ballon dors ?')\n",
        "  if ans.lower() == 'messi':\n",
        "    score += 1\n",
        "    print('correct')\n",
        "  else:\n",
        "    print('incorrect')\n",
        "\n",
        "print('Thank you for playing, you got ' ,score, \"questions correct.\")\n",
        "result = (score/total_question) * 100\n",
        "\n",
        "print(\"Result: \", result)\n",
        "print(\"Goodbye!\")\n",
        "\n",
        "\n",
        "\n",
        "\n",
        "\n"
      ],
      "execution_count": 14,
      "outputs": [
        {
          "output_type": "stream",
          "text": [
            "Hello, Welome to quiz\n",
            "Are you ready to play (yes/no):  yes\n",
            "1. What is the best programming language?python\n",
            "correct\n",
            "2. What is 2 + 8 + 9 - 1 ?18\n",
            "correct\n",
            "3. Who won the last football world cup ?france\n",
            "correct\n",
            "4. Who has most of the ballon dors ?messi\n",
            "correct\n",
            "Thank you for playing, you got  4 questions correct.\n",
            "Result:  100.0\n",
            "Goodbye!\n"
          ],
          "name": "stdout"
        }
      ]
    }
  ]
}