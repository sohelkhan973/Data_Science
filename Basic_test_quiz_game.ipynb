{
  "nbformat": 4,
  "nbformat_minor": 0,
  "metadata": {
    "colab": {
      "name": "Basic test quiz game.ipynb",
      "provenance": [],
      "authorship_tag": "ABX9TyM5o2cN+/ec4Hjh0NOUnP/E",
      "include_colab_link": true
    },
    "kernelspec": {
      "name": "python3",
      "display_name": "Python 3"
    }
  },
  "cells": [
    {
      "cell_type": "markdown",
      "metadata": {
        "id": "view-in-github",
        "colab_type": "text"
      },
      "source": [
        "<a href=\"https://colab.research.google.com/github/sohelkhan973/test-demo/blob/master/Basic_test_quiz_game.ipynb\" target=\"_parent\"><img src=\"https://colab.research.google.com/assets/colab-badge.svg\" alt=\"Open In Colab\"/></a>"
      ]
    },
    {
      "cell_type": "code",
      "metadata": {
        "id": "J229EGTpqLXk",
        "colab_type": "code",
        "colab": {
          "base_uri": "https://localhost:8080/",
          "height": 187
        },
        "outputId": "841be9b0-c415-49e1-ee16-4e73abb1d53d"
      },
      "source": [
        "print(\"Hello, Welome to quiz\")\n",
        "ans = input('Are you ready to play (yes/no):  ')\n",
        "score = 0\n",
        "total_question = 4\n",
        "\n",
        "if ans.lower() == 'yes':\n",
        "  ans = input ('1. What is the best programming language?')\n",
        "  if ans.lower() == 'python':\n",
        "    score += 1\n",
        "    print('correct')\n",
        "  else:\n",
        "    print('incorrect')\n",
        "  \n",
        "\n",
        "\n",
        "  ans = input ('2. What is 2 + 8 + 9 - 1 ?')\n",
        "  if ans == '18':\n",
        "    score += 1\n",
        "    print('correct')\n",
        "  else:\n",
        "    print('incorrect')\n",
        "\n",
        "\n",
        "\n",
        "  ans = input ('3. Who won the last football world cup ?')\n",
        "  if ans.lower() == 'france':\n",
        "    score += 1\n",
        "    print('correct')\n",
        "  else:\n",
        "    print('incorrect')\n",
        "\n",
        "\n",
        "\n",
        "  ans = input (\"4. What has most of the ballon d'or ?\")\n",
        "  if ans.lower() == 'Lionel Messi':\n",
        "    score += 1\n",
        "    print('correct')\n",
        "  else:\n",
        "    print('incorrect')\n",
        "\n",
        "\n",
        "\n",
        "\n",
        "\n",
        "\n"
      ],
      "execution_count": 5,
      "outputs": [
        {
          "output_type": "stream",
          "text": [
            "Hello, Welome to quiz\n",
            "Are you ready to play (yes/no):  yes\n",
            "1. What is the best programming language?Python\n",
            "correct\n",
            "2. What is 2 + 8 + 9 - 1 ?18\n",
            "correct\n",
            "3. Who won the last football world cup ?France\n",
            "correct\n",
            "4. What has most of the ballon d'or ?Lionel Messi ofcourse\n",
            "incorrect\n"
          ],
          "name": "stdout"
        }
      ]
    }
  ]
}